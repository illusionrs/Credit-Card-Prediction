{
 "cells": [
  {
   "cell_type": "code",
   "execution_count": 1,
   "metadata": {},
   "outputs": [],
   "source": [
    "import pandas as pd\n",
    "import numpy as np\n"
   ]
  },
  {
   "cell_type": "markdown",
   "metadata": {},
   "source": [
    "# Reading Data"
   ]
  },
  {
   "cell_type": "code",
   "execution_count": 2,
   "metadata": {},
   "outputs": [],
   "source": [
    "train=pd.read_csv('train.csv')\n",
    "test=pd.read_csv('test.csv')"
   ]
  },
  {
   "cell_type": "markdown",
   "metadata": {},
   "source": [
    "## Mapping columns"
   ]
  },
  {
   "cell_type": "code",
   "execution_count": 3,
   "metadata": {},
   "outputs": [],
   "source": [
    "varlist=['Male','Married','BankCustomer','EducationLevel','Ethnicity','Citizen','PriorDefault','Employed','DriversLicense','Approved']\n",
    "\n",
    "\n",
    "def binary_map(x):\n",
    "    return x.map({'t': 1,'a':1 ,'b':0,'f': 0,'u':0,'y':1,'l':2,'t':3,'g':0,'p':1,'gg':2,'c':0,'d':1,'cc':2,'i':3,'j':4,'k':5,'m':6,'r':7,'q':8,'w':9,'x':10,'e':11,'aa':12,'ff':13,'v':0,'h':1,'bb':2,'n':3,'z':5,'dd':6,'ff':7,'o':8,'s':3,'+':1,'-':0})\n",
    "\n",
    "\n",
    "train[varlist] = train[varlist].apply(binary_map)\n"
   ]
  },
  {
   "cell_type": "code",
   "execution_count": 4,
   "metadata": {},
   "outputs": [
    {
     "name": "stdout",
     "output_type": "stream",
     "text": [
      "<class 'pandas.core.frame.DataFrame'>\n",
      "RangeIndex: 590 entries, 0 to 589\n",
      "Data columns (total 17 columns):\n",
      "Key               590 non-null bool\n",
      "Male              590 non-null bool\n",
      "Age               590 non-null bool\n",
      "Debt              590 non-null bool\n",
      "Married           590 non-null bool\n",
      "BankCustomer      590 non-null bool\n",
      "EducationLevel    590 non-null bool\n",
      "Ethnicity         590 non-null bool\n",
      "YearsEmployed     590 non-null bool\n",
      "PriorDefault      590 non-null bool\n",
      "Employed          590 non-null bool\n",
      "CreditScore       590 non-null bool\n",
      "DriversLicense    590 non-null bool\n",
      "Citizen           590 non-null bool\n",
      "ZipCode           590 non-null bool\n",
      "Income            590 non-null bool\n",
      "Approved          590 non-null bool\n",
      "dtypes: bool(17)\n",
      "memory usage: 9.9 KB\n"
     ]
    }
   ],
   "source": [
    "train.isnull().info()"
   ]
  },
  {
   "cell_type": "markdown",
   "metadata": {},
   "source": [
    "## Checking Null Values"
   ]
  },
  {
   "cell_type": "code",
   "execution_count": 5,
   "metadata": {},
   "outputs": [
    {
     "data": {
      "text/plain": [
       "Key                0\n",
       "Male              11\n",
       "Age                0\n",
       "Debt               0\n",
       "Married            6\n",
       "BankCustomer       6\n",
       "EducationLevel     9\n",
       "Ethnicity          9\n",
       "YearsEmployed      0\n",
       "PriorDefault       0\n",
       "Employed           0\n",
       "CreditScore        0\n",
       "DriversLicense     0\n",
       "Citizen            0\n",
       "ZipCode            0\n",
       "Income             0\n",
       "Approved           0\n",
       "dtype: int64"
      ]
     },
     "execution_count": 5,
     "metadata": {},
     "output_type": "execute_result"
    }
   ],
   "source": [
    "train.isnull().sum()"
   ]
  },
  {
   "cell_type": "markdown",
   "metadata": {},
   "source": [
    "### Drop Nan"
   ]
  },
  {
   "cell_type": "code",
   "execution_count": 6,
   "metadata": {},
   "outputs": [],
   "source": [
    "train=train.dropna()"
   ]
  },
  {
   "cell_type": "code",
   "execution_count": 7,
   "metadata": {},
   "outputs": [
    {
     "data": {
      "text/plain": [
       "Key               0\n",
       "Male              0\n",
       "Age               0\n",
       "Debt              0\n",
       "Married           0\n",
       "BankCustomer      0\n",
       "EducationLevel    0\n",
       "Ethnicity         0\n",
       "YearsEmployed     0\n",
       "PriorDefault      0\n",
       "Employed          0\n",
       "CreditScore       0\n",
       "DriversLicense    0\n",
       "Citizen           0\n",
       "ZipCode           0\n",
       "Income            0\n",
       "Approved          0\n",
       "dtype: int64"
      ]
     },
     "execution_count": 7,
     "metadata": {},
     "output_type": "execute_result"
    }
   ],
   "source": [
    "train.isnull().sum()"
   ]
  },
  {
   "cell_type": "code",
   "execution_count": 8,
   "metadata": {},
   "outputs": [
    {
     "name": "stdout",
     "output_type": "stream",
     "text": [
      "<class 'pandas.core.frame.DataFrame'>\n",
      "Int64Index: 572 entries, 8 to 588\n",
      "Data columns (total 17 columns):\n",
      "Key               572 non-null int64\n",
      "Male              572 non-null float64\n",
      "Age               572 non-null object\n",
      "Debt              572 non-null float64\n",
      "Married           572 non-null float64\n",
      "BankCustomer      572 non-null float64\n",
      "EducationLevel    572 non-null float64\n",
      "Ethnicity         572 non-null float64\n",
      "YearsEmployed     572 non-null float64\n",
      "PriorDefault      572 non-null int64\n",
      "Employed          572 non-null int64\n",
      "CreditScore       572 non-null int64\n",
      "DriversLicense    572 non-null int64\n",
      "Citizen           572 non-null int64\n",
      "ZipCode           572 non-null object\n",
      "Income            572 non-null int64\n",
      "Approved          572 non-null int64\n",
      "dtypes: float64(7), int64(8), object(2)\n",
      "memory usage: 80.4+ KB\n"
     ]
    }
   ],
   "source": [
    "train.info()"
   ]
  },
  {
   "cell_type": "code",
   "execution_count": 9,
   "metadata": {},
   "outputs": [
    {
     "data": {
      "text/plain": [
       "Key               12\n",
       "Male              12\n",
       "Age               12\n",
       "Debt              12\n",
       "Married           12\n",
       "BankCustomer      12\n",
       "EducationLevel    12\n",
       "Ethnicity         12\n",
       "YearsEmployed     12\n",
       "PriorDefault      12\n",
       "Employed          12\n",
       "CreditScore       12\n",
       "DriversLicense    12\n",
       "Citizen           12\n",
       "ZipCode           12\n",
       "Income            12\n",
       "Approved          12\n",
       "dtype: int64"
      ]
     },
     "execution_count": 9,
     "metadata": {},
     "output_type": "execute_result"
    }
   ],
   "source": [
    "train[train['Age']=='?'].count()"
   ]
  },
  {
   "cell_type": "code",
   "execution_count": 10,
   "metadata": {},
   "outputs": [],
   "source": [
    "#age has only ? so we can replace it with mean"
   ]
  },
  {
   "cell_type": "code",
   "execution_count": 11,
   "metadata": {},
   "outputs": [],
   "source": [
    "train['Age']=train['Age'].replace('?',0)"
   ]
  },
  {
   "cell_type": "code",
   "execution_count": 12,
   "metadata": {},
   "outputs": [
    {
     "data": {
      "text/plain": [
       "Key               0\n",
       "Male              0\n",
       "Age               0\n",
       "Debt              0\n",
       "Married           0\n",
       "BankCustomer      0\n",
       "EducationLevel    0\n",
       "Ethnicity         0\n",
       "YearsEmployed     0\n",
       "PriorDefault      0\n",
       "Employed          0\n",
       "CreditScore       0\n",
       "DriversLicense    0\n",
       "Citizen           0\n",
       "ZipCode           0\n",
       "Income            0\n",
       "Approved          0\n",
       "dtype: int64"
      ]
     },
     "execution_count": 12,
     "metadata": {},
     "output_type": "execute_result"
    }
   ],
   "source": [
    "train[train['Age']=='?'].count()"
   ]
  },
  {
   "cell_type": "code",
   "execution_count": 13,
   "metadata": {},
   "outputs": [],
   "source": [
    "train['Age']=train['Age'].astype(float)"
   ]
  },
  {
   "cell_type": "code",
   "execution_count": 14,
   "metadata": {},
   "outputs": [],
   "source": [
    "c=train['Age'].mean()"
   ]
  },
  {
   "cell_type": "code",
   "execution_count": 15,
   "metadata": {},
   "outputs": [],
   "source": [
    "train['Age']=train['Age'].replace(0,c)"
   ]
  },
  {
   "cell_type": "code",
   "execution_count": 16,
   "metadata": {},
   "outputs": [
    {
     "name": "stdout",
     "output_type": "stream",
     "text": [
      "<class 'pandas.core.frame.DataFrame'>\n",
      "Int64Index: 572 entries, 8 to 588\n",
      "Data columns (total 17 columns):\n",
      "Key               572 non-null int64\n",
      "Male              572 non-null float64\n",
      "Age               572 non-null float64\n",
      "Debt              572 non-null float64\n",
      "Married           572 non-null float64\n",
      "BankCustomer      572 non-null float64\n",
      "EducationLevel    572 non-null float64\n",
      "Ethnicity         572 non-null float64\n",
      "YearsEmployed     572 non-null float64\n",
      "PriorDefault      572 non-null int64\n",
      "Employed          572 non-null int64\n",
      "CreditScore       572 non-null int64\n",
      "DriversLicense    572 non-null int64\n",
      "Citizen           572 non-null int64\n",
      "ZipCode           572 non-null object\n",
      "Income            572 non-null int64\n",
      "Approved          572 non-null int64\n",
      "dtypes: float64(8), int64(8), object(1)\n",
      "memory usage: 80.4+ KB\n"
     ]
    }
   ],
   "source": [
    "train.info()"
   ]
  },
  {
   "cell_type": "markdown",
   "metadata": {},
   "source": [
    "# Droping Useless columns"
   ]
  },
  {
   "cell_type": "code",
   "execution_count": 17,
   "metadata": {},
   "outputs": [],
   "source": [
    "X_train=train.drop(['Key','Approved','ZipCode'],1)"
   ]
  },
  {
   "cell_type": "code",
   "execution_count": 18,
   "metadata": {},
   "outputs": [
    {
     "data": {
      "text/html": [
       "<div>\n",
       "<style scoped>\n",
       "    .dataframe tbody tr th:only-of-type {\n",
       "        vertical-align: middle;\n",
       "    }\n",
       "\n",
       "    .dataframe tbody tr th {\n",
       "        vertical-align: top;\n",
       "    }\n",
       "\n",
       "    .dataframe thead th {\n",
       "        text-align: right;\n",
       "    }\n",
       "</style>\n",
       "<table border=\"1\" class=\"dataframe\">\n",
       "  <thead>\n",
       "    <tr style=\"text-align: right;\">\n",
       "      <th></th>\n",
       "      <th>Male</th>\n",
       "      <th>Age</th>\n",
       "      <th>Debt</th>\n",
       "      <th>Married</th>\n",
       "      <th>BankCustomer</th>\n",
       "      <th>EducationLevel</th>\n",
       "      <th>Ethnicity</th>\n",
       "      <th>YearsEmployed</th>\n",
       "      <th>PriorDefault</th>\n",
       "      <th>Employed</th>\n",
       "      <th>CreditScore</th>\n",
       "      <th>DriversLicense</th>\n",
       "      <th>Citizen</th>\n",
       "      <th>Income</th>\n",
       "    </tr>\n",
       "  </thead>\n",
       "  <tbody>\n",
       "    <tr>\n",
       "      <th>8</th>\n",
       "      <td>1.0</td>\n",
       "      <td>38.580000</td>\n",
       "      <td>5.000</td>\n",
       "      <td>0.0</td>\n",
       "      <td>0.0</td>\n",
       "      <td>2.0</td>\n",
       "      <td>0.0</td>\n",
       "      <td>13.500</td>\n",
       "      <td>3</td>\n",
       "      <td>0</td>\n",
       "      <td>0</td>\n",
       "      <td>3</td>\n",
       "      <td>0</td>\n",
       "      <td>0</td>\n",
       "    </tr>\n",
       "    <tr>\n",
       "      <th>9</th>\n",
       "      <td>1.0</td>\n",
       "      <td>19.170000</td>\n",
       "      <td>0.585</td>\n",
       "      <td>1.0</td>\n",
       "      <td>1.0</td>\n",
       "      <td>12.0</td>\n",
       "      <td>0.0</td>\n",
       "      <td>0.585</td>\n",
       "      <td>3</td>\n",
       "      <td>0</td>\n",
       "      <td>0</td>\n",
       "      <td>3</td>\n",
       "      <td>0</td>\n",
       "      <td>0</td>\n",
       "    </tr>\n",
       "    <tr>\n",
       "      <th>10</th>\n",
       "      <td>1.0</td>\n",
       "      <td>27.670000</td>\n",
       "      <td>1.500</td>\n",
       "      <td>0.0</td>\n",
       "      <td>0.0</td>\n",
       "      <td>6.0</td>\n",
       "      <td>0.0</td>\n",
       "      <td>2.000</td>\n",
       "      <td>3</td>\n",
       "      <td>0</td>\n",
       "      <td>0</td>\n",
       "      <td>0</td>\n",
       "      <td>3</td>\n",
       "      <td>0</td>\n",
       "    </tr>\n",
       "    <tr>\n",
       "      <th>11</th>\n",
       "      <td>1.0</td>\n",
       "      <td>30.473549</td>\n",
       "      <td>3.500</td>\n",
       "      <td>0.0</td>\n",
       "      <td>0.0</td>\n",
       "      <td>1.0</td>\n",
       "      <td>0.0</td>\n",
       "      <td>3.000</td>\n",
       "      <td>3</td>\n",
       "      <td>0</td>\n",
       "      <td>0</td>\n",
       "      <td>3</td>\n",
       "      <td>0</td>\n",
       "      <td>0</td>\n",
       "    </tr>\n",
       "    <tr>\n",
       "      <th>12</th>\n",
       "      <td>1.0</td>\n",
       "      <td>49.000000</td>\n",
       "      <td>1.500</td>\n",
       "      <td>0.0</td>\n",
       "      <td>0.0</td>\n",
       "      <td>4.0</td>\n",
       "      <td>4.0</td>\n",
       "      <td>0.000</td>\n",
       "      <td>3</td>\n",
       "      <td>0</td>\n",
       "      <td>0</td>\n",
       "      <td>3</td>\n",
       "      <td>0</td>\n",
       "      <td>27</td>\n",
       "    </tr>\n",
       "    <tr>\n",
       "      <th>13</th>\n",
       "      <td>1.0</td>\n",
       "      <td>28.580000</td>\n",
       "      <td>3.540</td>\n",
       "      <td>0.0</td>\n",
       "      <td>0.0</td>\n",
       "      <td>3.0</td>\n",
       "      <td>2.0</td>\n",
       "      <td>0.500</td>\n",
       "      <td>3</td>\n",
       "      <td>0</td>\n",
       "      <td>0</td>\n",
       "      <td>3</td>\n",
       "      <td>0</td>\n",
       "      <td>0</td>\n",
       "    </tr>\n",
       "    <tr>\n",
       "      <th>14</th>\n",
       "      <td>1.0</td>\n",
       "      <td>22.500000</td>\n",
       "      <td>11.000</td>\n",
       "      <td>1.0</td>\n",
       "      <td>1.0</td>\n",
       "      <td>8.0</td>\n",
       "      <td>0.0</td>\n",
       "      <td>3.000</td>\n",
       "      <td>3</td>\n",
       "      <td>0</td>\n",
       "      <td>0</td>\n",
       "      <td>3</td>\n",
       "      <td>0</td>\n",
       "      <td>0</td>\n",
       "    </tr>\n",
       "    <tr>\n",
       "      <th>15</th>\n",
       "      <td>1.0</td>\n",
       "      <td>28.500000</td>\n",
       "      <td>1.000</td>\n",
       "      <td>0.0</td>\n",
       "      <td>0.0</td>\n",
       "      <td>8.0</td>\n",
       "      <td>0.0</td>\n",
       "      <td>1.000</td>\n",
       "      <td>3</td>\n",
       "      <td>3</td>\n",
       "      <td>2</td>\n",
       "      <td>3</td>\n",
       "      <td>0</td>\n",
       "      <td>500</td>\n",
       "    </tr>\n",
       "    <tr>\n",
       "      <th>16</th>\n",
       "      <td>1.0</td>\n",
       "      <td>25.000000</td>\n",
       "      <td>11.000</td>\n",
       "      <td>1.0</td>\n",
       "      <td>1.0</td>\n",
       "      <td>12.0</td>\n",
       "      <td>0.0</td>\n",
       "      <td>4.500</td>\n",
       "      <td>3</td>\n",
       "      <td>0</td>\n",
       "      <td>0</td>\n",
       "      <td>0</td>\n",
       "      <td>0</td>\n",
       "      <td>0</td>\n",
       "    </tr>\n",
       "    <tr>\n",
       "      <th>17</th>\n",
       "      <td>1.0</td>\n",
       "      <td>19.750000</td>\n",
       "      <td>0.750</td>\n",
       "      <td>0.0</td>\n",
       "      <td>0.0</td>\n",
       "      <td>0.0</td>\n",
       "      <td>0.0</td>\n",
       "      <td>0.795</td>\n",
       "      <td>3</td>\n",
       "      <td>3</td>\n",
       "      <td>5</td>\n",
       "      <td>3</td>\n",
       "      <td>0</td>\n",
       "      <td>5</td>\n",
       "    </tr>\n",
       "  </tbody>\n",
       "</table>\n",
       "</div>"
      ],
      "text/plain": [
       "    Male        Age    Debt  Married  BankCustomer  EducationLevel  Ethnicity  \\\n",
       "8    1.0  38.580000   5.000      0.0           0.0             2.0        0.0   \n",
       "9    1.0  19.170000   0.585      1.0           1.0            12.0        0.0   \n",
       "10   1.0  27.670000   1.500      0.0           0.0             6.0        0.0   \n",
       "11   1.0  30.473549   3.500      0.0           0.0             1.0        0.0   \n",
       "12   1.0  49.000000   1.500      0.0           0.0             4.0        4.0   \n",
       "13   1.0  28.580000   3.540      0.0           0.0             3.0        2.0   \n",
       "14   1.0  22.500000  11.000      1.0           1.0             8.0        0.0   \n",
       "15   1.0  28.500000   1.000      0.0           0.0             8.0        0.0   \n",
       "16   1.0  25.000000  11.000      1.0           1.0            12.0        0.0   \n",
       "17   1.0  19.750000   0.750      0.0           0.0             0.0        0.0   \n",
       "\n",
       "    YearsEmployed  PriorDefault  Employed  CreditScore  DriversLicense  \\\n",
       "8          13.500             3         0            0               3   \n",
       "9           0.585             3         0            0               3   \n",
       "10          2.000             3         0            0               0   \n",
       "11          3.000             3         0            0               3   \n",
       "12          0.000             3         0            0               3   \n",
       "13          0.500             3         0            0               3   \n",
       "14          3.000             3         0            0               3   \n",
       "15          1.000             3         3            2               3   \n",
       "16          4.500             3         0            0               0   \n",
       "17          0.795             3         3            5               3   \n",
       "\n",
       "    Citizen  Income  \n",
       "8         0       0  \n",
       "9         0       0  \n",
       "10        3       0  \n",
       "11        0       0  \n",
       "12        0      27  \n",
       "13        0       0  \n",
       "14        0       0  \n",
       "15        0     500  \n",
       "16        0       0  \n",
       "17        0       5  "
      ]
     },
     "execution_count": 18,
     "metadata": {},
     "output_type": "execute_result"
    }
   ],
   "source": [
    "X_train.head(10)"
   ]
  },
  {
   "cell_type": "code",
   "execution_count": 19,
   "metadata": {},
   "outputs": [
    {
     "name": "stderr",
     "output_type": "stream",
     "text": [
      "/home/rajeev/anaconda3/lib/python3.7/site-packages/pandas/core/ops.py:1649: FutureWarning: elementwise comparison failed; returning scalar instead, but in the future will perform elementwise comparison\n",
      "  result = method(y)\n",
      "/home/rajeev/anaconda3/lib/python3.7/site-packages/ipykernel_launcher.py:2: SettingWithCopyWarning: \n",
      "A value is trying to be set on a copy of a slice from a DataFrame\n",
      "\n",
      "See the caveats in the documentation: http://pandas.pydata.org/pandas-docs/stable/indexing.html#indexing-view-versus-copy\n",
      "  \n",
      "/home/rajeev/anaconda3/lib/python3.7/site-packages/ipykernel_launcher.py:3: SettingWithCopyWarning: \n",
      "A value is trying to be set on a copy of a slice from a DataFrame\n",
      "\n",
      "See the caveats in the documentation: http://pandas.pydata.org/pandas-docs/stable/indexing.html#indexing-view-versus-copy\n",
      "  This is separate from the ipykernel package so we can avoid doing imports until\n"
     ]
    }
   ],
   "source": [
    "y_train=train['Approved']\n",
    "y_train[y_train=='-']=0\n",
    "y_train[y_train=='+']=1\n"
   ]
  },
  {
   "cell_type": "code",
   "execution_count": 20,
   "metadata": {},
   "outputs": [],
   "source": [
    "y_train=y_train.astype(int)"
   ]
  },
  {
   "cell_type": "code",
   "execution_count": 21,
   "metadata": {},
   "outputs": [
    {
     "data": {
      "text/plain": [
       "array([0, 1])"
      ]
     },
     "execution_count": 21,
     "metadata": {},
     "output_type": "execute_result"
    }
   ],
   "source": [
    "y_train.unique()"
   ]
  },
  {
   "cell_type": "code",
   "execution_count": 22,
   "metadata": {},
   "outputs": [
    {
     "data": {
      "text/html": [
       "<div>\n",
       "<style scoped>\n",
       "    .dataframe tbody tr th:only-of-type {\n",
       "        vertical-align: middle;\n",
       "    }\n",
       "\n",
       "    .dataframe tbody tr th {\n",
       "        vertical-align: top;\n",
       "    }\n",
       "\n",
       "    .dataframe thead th {\n",
       "        text-align: right;\n",
       "    }\n",
       "</style>\n",
       "<table border=\"1\" class=\"dataframe\">\n",
       "  <thead>\n",
       "    <tr style=\"text-align: right;\">\n",
       "      <th></th>\n",
       "      <th>Key</th>\n",
       "      <th>Male</th>\n",
       "      <th>Age</th>\n",
       "      <th>Debt</th>\n",
       "      <th>Married</th>\n",
       "      <th>BankCustomer</th>\n",
       "      <th>EducationLevel</th>\n",
       "      <th>Ethnicity</th>\n",
       "      <th>YearsEmployed</th>\n",
       "      <th>PriorDefault</th>\n",
       "      <th>Employed</th>\n",
       "      <th>CreditScore</th>\n",
       "      <th>DriversLicense</th>\n",
       "      <th>Citizen</th>\n",
       "      <th>ZipCode</th>\n",
       "      <th>Income</th>\n",
       "    </tr>\n",
       "  </thead>\n",
       "  <tbody>\n",
       "    <tr>\n",
       "      <th>0</th>\n",
       "      <td>1</td>\n",
       "      <td>b</td>\n",
       "      <td>31.83</td>\n",
       "      <td>0.04</td>\n",
       "      <td>y</td>\n",
       "      <td>p</td>\n",
       "      <td>m</td>\n",
       "      <td>v</td>\n",
       "      <td>0.040</td>\n",
       "      <td>f</td>\n",
       "      <td>f</td>\n",
       "      <td>0</td>\n",
       "      <td>f</td>\n",
       "      <td>g</td>\n",
       "      <td>0</td>\n",
       "      <td>0</td>\n",
       "    </tr>\n",
       "    <tr>\n",
       "      <th>1</th>\n",
       "      <td>2</td>\n",
       "      <td>a</td>\n",
       "      <td>21.75</td>\n",
       "      <td>11.75</td>\n",
       "      <td>u</td>\n",
       "      <td>g</td>\n",
       "      <td>c</td>\n",
       "      <td>v</td>\n",
       "      <td>0.250</td>\n",
       "      <td>f</td>\n",
       "      <td>f</td>\n",
       "      <td>0</td>\n",
       "      <td>t</td>\n",
       "      <td>g</td>\n",
       "      <td>180</td>\n",
       "      <td>0</td>\n",
       "    </tr>\n",
       "    <tr>\n",
       "      <th>2</th>\n",
       "      <td>3</td>\n",
       "      <td>a</td>\n",
       "      <td>17.92</td>\n",
       "      <td>0.54</td>\n",
       "      <td>u</td>\n",
       "      <td>g</td>\n",
       "      <td>c</td>\n",
       "      <td>v</td>\n",
       "      <td>1.750</td>\n",
       "      <td>f</td>\n",
       "      <td>t</td>\n",
       "      <td>1</td>\n",
       "      <td>t</td>\n",
       "      <td>g</td>\n",
       "      <td>80</td>\n",
       "      <td>5</td>\n",
       "    </tr>\n",
       "    <tr>\n",
       "      <th>3</th>\n",
       "      <td>4</td>\n",
       "      <td>b</td>\n",
       "      <td>30.33</td>\n",
       "      <td>0.50</td>\n",
       "      <td>u</td>\n",
       "      <td>g</td>\n",
       "      <td>d</td>\n",
       "      <td>h</td>\n",
       "      <td>0.085</td>\n",
       "      <td>f</td>\n",
       "      <td>f</td>\n",
       "      <td>0</td>\n",
       "      <td>t</td>\n",
       "      <td>s</td>\n",
       "      <td>252</td>\n",
       "      <td>0</td>\n",
       "    </tr>\n",
       "    <tr>\n",
       "      <th>4</th>\n",
       "      <td>5</td>\n",
       "      <td>b</td>\n",
       "      <td>51.83</td>\n",
       "      <td>2.04</td>\n",
       "      <td>y</td>\n",
       "      <td>p</td>\n",
       "      <td>ff</td>\n",
       "      <td>ff</td>\n",
       "      <td>1.500</td>\n",
       "      <td>f</td>\n",
       "      <td>f</td>\n",
       "      <td>0</td>\n",
       "      <td>f</td>\n",
       "      <td>g</td>\n",
       "      <td>120</td>\n",
       "      <td>1</td>\n",
       "    </tr>\n",
       "  </tbody>\n",
       "</table>\n",
       "</div>"
      ],
      "text/plain": [
       "   Key Male    Age   Debt Married BankCustomer EducationLevel Ethnicity  \\\n",
       "0    1    b  31.83   0.04       y            p              m         v   \n",
       "1    2    a  21.75  11.75       u            g              c         v   \n",
       "2    3    a  17.92   0.54       u            g              c         v   \n",
       "3    4    b  30.33   0.50       u            g              d         h   \n",
       "4    5    b  51.83   2.04       y            p             ff        ff   \n",
       "\n",
       "   YearsEmployed PriorDefault Employed  CreditScore DriversLicense Citizen  \\\n",
       "0          0.040            f        f            0              f       g   \n",
       "1          0.250            f        f            0              t       g   \n",
       "2          1.750            f        t            1              t       g   \n",
       "3          0.085            f        f            0              t       s   \n",
       "4          1.500            f        f            0              f       g   \n",
       "\n",
       "   ZipCode  Income  \n",
       "0        0       0  \n",
       "1      180       0  \n",
       "2       80       5  \n",
       "3      252       0  \n",
       "4      120       1  "
      ]
     },
     "execution_count": 22,
     "metadata": {},
     "output_type": "execute_result"
    }
   ],
   "source": [
    "test.head()"
   ]
  },
  {
   "cell_type": "code",
   "execution_count": 23,
   "metadata": {},
   "outputs": [],
   "source": [
    "varlist=['Male','Married','BankCustomer','EducationLevel','Ethnicity','Citizen','PriorDefault','Employed','DriversLicense']\n",
    "\n",
    "def binary_map(x):\n",
    "    return x.map({'t': 1,'a':1 ,'b':0,'f': 0,'u':0,'y':1,'l':2,'t':3,'g':0,'p':1,'gg':2,'c':0,'d':1,'cc':2,'i':3,'j':4,'k':5,'m':6,'r':7,'q':8,'w':9,'x':10,'e':11,'aa':12,'ff':13,'v':0,'h':1,'bb':2,'n':3,'z':5,'dd':6,'ff':7,'o':8,'s':3,'+':1,'-':0})\n",
    "\n",
    "\n",
    "test[varlist] = test[varlist].apply(binary_map)\n"
   ]
  },
  {
   "cell_type": "code",
   "execution_count": 24,
   "metadata": {},
   "outputs": [
    {
     "data": {
      "text/plain": [
       "Key               0\n",
       "Male              1\n",
       "Age               0\n",
       "Debt              0\n",
       "Married           0\n",
       "BankCustomer      0\n",
       "EducationLevel    0\n",
       "Ethnicity         0\n",
       "YearsEmployed     0\n",
       "PriorDefault      0\n",
       "Employed          0\n",
       "CreditScore       0\n",
       "DriversLicense    0\n",
       "Citizen           0\n",
       "ZipCode           0\n",
       "Income            0\n",
       "dtype: int64"
      ]
     },
     "execution_count": 24,
     "metadata": {},
     "output_type": "execute_result"
    }
   ],
   "source": [
    "test.isnull().sum()"
   ]
  },
  {
   "cell_type": "code",
   "execution_count": 25,
   "metadata": {},
   "outputs": [],
   "source": [
    "test=test.fillna(0)"
   ]
  },
  {
   "cell_type": "code",
   "execution_count": 26,
   "metadata": {},
   "outputs": [
    {
     "name": "stdout",
     "output_type": "stream",
     "text": [
      "[  1   2   3   4   5   6   7   8   9  10  11  12  13  14  15  16  17  18\n",
      "  19  20  21  22  23  24  25  26  27  28  29  30  31  32  33  34  35  36\n",
      "  37  38  39  40  41  42  43  44  45  46  47  48  49  50  51  52  53  54\n",
      "  55  56  57  58  59  60  61  62  63  64  65  66  67  68  69  70  71  72\n",
      "  73  74  75  76  77  78  79  80  81  82  83  84  85  86  87  88  89  90\n",
      "  91  92  93  94  95  96  97  98  99 100]\n",
      "[0. 1.]\n",
      "[31.83 21.75 17.92 30.33 51.83 47.17 25.83 50.25 29.5  37.33 41.58 30.58\n",
      " 19.42 20.08 19.5  27.83 17.08 36.42 40.58 21.08 22.67 25.25 35.   30.83\n",
      " 58.67 24.5  20.17 32.08 33.17 22.92 54.42 42.5  22.08 29.92 38.25 48.08\n",
      " 45.83 36.67 28.25 23.25 21.83 19.17 25.   47.75 27.42 41.17 15.83 47.\n",
      " 56.58 57.42 42.08 29.25 42.   49.5  36.75 22.58 27.25 23.   27.75 54.58\n",
      " 34.17 28.92 29.67 39.58 56.42 54.33 41.   31.92 41.5  23.92 25.75 26.\n",
      " 37.42 34.92 34.25 23.33 23.17 44.33 35.17 43.25 56.75 31.67 23.42 20.42\n",
      " 26.67 36.   25.5  52.5  57.83 20.75 39.92 25.67]\n",
      "[ 0.04  11.75   0.54   0.5    2.04   5.835 12.835  0.835  2.     2.5\n",
      "  1.04  10.665  7.25  10.21   1.25   0.29   1.     3.29   0.75  10.085\n",
      " 13.5    0.205  3.375  0.     4.46   1.54   5.625  4.    11.585  4.915\n",
      "  0.83   1.835  6.     6.04  10.5    4.415  0.875  5.875  0.25   8.585\n",
      " 11.25   8.    14.5    6.5    0.585 13.    18.5    8.5   14.79   9.79\n",
      "  7.585  5.125 10.75   1.5    1.585  9.415  9.17  15.     1.415 13.915\n",
      " 28.     6.75   0.665  3.    11.625  4.5   12.25  16.165  0.79   4.25\n",
      "  0.375 25.125  7.04  10.335  6.21  12.5  ]\n",
      "[1 0]\n",
      "[1 0]\n",
      "[ 6  0  1  7  9  2 12 11  3  8  5 10]\n",
      "[0 1 7 2]\n",
      "[ 0.04   0.25   1.75   0.085  1.5    5.5    0.5    2.     0.21   0.665\n",
      "  0.     0.29   3.     0.335  0.585  3.5    1.25   8.29   3.04   3.75\n",
      "  1.71   2.5    6.5    3.96   3.165  2.165  4.335  1.     5.     0.96\n",
      "  3.17   0.75   0.835  7.875  3.085  5.165 15.     7.     5.04   7.96\n",
      "  7.585  0.415  1.835 14.415  4.5    5.335  8.625 28.5    2.625  0.125\n",
      "  6.04   0.165  0.875  7.415  5.75   6.     1.585  4.29   1.54   1.46\n",
      "  1.625  6.29  14.     1.21 ]\n",
      "[0 3]\n",
      "[0 3]\n",
      "[ 0  1 12  2  6  5  7 10  3 17  9  8 15 11 40 23  4 67]\n",
      "[0 3]\n",
      "[0 3]\n",
      "[  0 180  80 252 120 465 240 256 260 129 100 280 176 140 400 200 202  43\n",
      " 360 164  52 128 320 396  96 300 145 500 168 434 583  30  70 455 311 216\n",
      " 491 239 160 711 250 520 515]\n",
      "[    0     5     1   150     2   117    17   246   237     3    50   364\n",
      "   537   394   750   560   824 31285  1349   314  1442   200  2690   245\n",
      "  1208  1260    11 10000  5000  4000    35   713   551   500   300   221\n",
      "  2283   100    15   284  1236  5800   730   400 50000   456 15108  2954\n",
      " 11202  1332   258]\n"
     ]
    }
   ],
   "source": [
    "for i in test.columns:\n",
    "    print(test[i].unique())"
   ]
  },
  {
   "cell_type": "code",
   "execution_count": 27,
   "metadata": {},
   "outputs": [],
   "source": [
    "X_test=test.drop(['Key','ZipCode'],1)"
   ]
  },
  {
   "cell_type": "code",
   "execution_count": 28,
   "metadata": {},
   "outputs": [],
   "source": [
    "from sklearn.linear_model import LogisticRegression\n",
    "rog=LogisticRegression()"
   ]
  },
  {
   "cell_type": "code",
   "execution_count": 29,
   "metadata": {},
   "outputs": [
    {
     "name": "stderr",
     "output_type": "stream",
     "text": [
      "/home/rajeev/anaconda3/lib/python3.7/site-packages/sklearn/linear_model/logistic.py:432: FutureWarning: Default solver will be changed to 'lbfgs' in 0.22. Specify a solver to silence this warning.\n",
      "  FutureWarning)\n"
     ]
    },
    {
     "data": {
      "text/plain": [
       "LogisticRegression(C=1.0, class_weight=None, dual=False, fit_intercept=True,\n",
       "                   intercept_scaling=1, l1_ratio=None, max_iter=100,\n",
       "                   multi_class='warn', n_jobs=None, penalty='l2',\n",
       "                   random_state=None, solver='warn', tol=0.0001, verbose=0,\n",
       "                   warm_start=False)"
      ]
     },
     "execution_count": 29,
     "metadata": {},
     "output_type": "execute_result"
    }
   ],
   "source": [
    "rog.fit(X_train,y_train)"
   ]
  },
  {
   "cell_type": "code",
   "execution_count": 30,
   "metadata": {},
   "outputs": [],
   "source": [
    "y_pred=rog.predict(X_test)"
   ]
  },
  {
   "cell_type": "code",
   "execution_count": 31,
   "metadata": {},
   "outputs": [
    {
     "data": {
      "text/plain": [
       "array([0, 0, 0, 0, 0, 0, 0, 0, 0, 0, 0, 0, 0, 0, 0, 0, 0, 0, 0, 0, 0, 0,\n",
       "       0, 0, 0, 1, 1, 1, 1, 1, 1, 1, 1, 0, 1, 0, 1, 0, 0, 1, 1, 1, 1, 0,\n",
       "       1, 1, 1, 1, 1, 1, 1, 1, 1, 1, 1, 1, 1, 1, 1, 1, 1, 1, 1, 1, 1, 1,\n",
       "       1, 1, 1, 1, 1, 1, 1, 0, 0, 0, 1, 1, 0, 1, 0, 1, 1, 0, 1, 1, 1, 1,\n",
       "       1, 1, 1, 1, 1, 1, 1, 1, 1, 1, 1, 1])"
      ]
     },
     "execution_count": 31,
     "metadata": {},
     "output_type": "execute_result"
    }
   ],
   "source": [
    "y_pred"
   ]
  },
  {
   "cell_type": "code",
   "execution_count": 32,
   "metadata": {},
   "outputs": [],
   "source": [
    "y_pred=y_pred.astype(str)\n",
    "y_pred[y_pred=='1']='+'\n",
    "y_pred[y_pred=='0']='-'\n"
   ]
  },
  {
   "cell_type": "code",
   "execution_count": 33,
   "metadata": {},
   "outputs": [
    {
     "data": {
      "text/plain": [
       "array(['-', '-', '-', '-', '-', '-', '-', '-', '-', '-', '-', '-', '-',\n",
       "       '-', '-', '-', '-', '-', '-', '-', '-', '-', '-', '-', '-', '+',\n",
       "       '+', '+', '+', '+', '+', '+', '+', '-', '+', '-', '+', '-', '-',\n",
       "       '+', '+', '+', '+', '-', '+', '+', '+', '+', '+', '+', '+', '+',\n",
       "       '+', '+', '+', '+', '+', '+', '+', '+', '+', '+', '+', '+', '+',\n",
       "       '+', '+', '+', '+', '+', '+', '+', '+', '-', '-', '-', '+', '+',\n",
       "       '-', '+', '-', '+', '+', '-', '+', '+', '+', '+', '+', '+', '+',\n",
       "       '+', '+', '+', '+', '+', '+', '+', '+', '+'], dtype='<U21')"
      ]
     },
     "execution_count": 33,
     "metadata": {},
     "output_type": "execute_result"
    }
   ],
   "source": [
    "y_pred"
   ]
  },
  {
   "cell_type": "code",
   "execution_count": 34,
   "metadata": {},
   "outputs": [
    {
     "ename": "SyntaxError",
     "evalue": "invalid syntax (<ipython-input-34-fdd89293573c>, line 2)",
     "output_type": "error",
     "traceback": [
      "\u001b[0;36m  File \u001b[0;32m\"<ipython-input-34-fdd89293573c>\"\u001b[0;36m, line \u001b[0;32m2\u001b[0m\n\u001b[0;31m    key.\u001b[0m\n\u001b[0m        ^\u001b[0m\n\u001b[0;31mSyntaxError\u001b[0m\u001b[0;31m:\u001b[0m invalid syntax\n"
     ]
    }
   ],
   "source": [
    "key=test['Key']\n",
    "key."
   ]
  },
  {
   "cell_type": "code",
   "execution_count": 236,
   "metadata": {},
   "outputs": [],
   "source": [
    "c=pd.Series(y_pred)\n",
    "d=pd.Series(key)\n",
    "# c[c==0]='+'"
   ]
  },
  {
   "cell_type": "code",
   "execution_count": 237,
   "metadata": {},
   "outputs": [
    {
     "data": {
      "text/plain": [
       "0     -\n",
       "1     -\n",
       "2     -\n",
       "3     -\n",
       "4     -\n",
       "5     -\n",
       "6     -\n",
       "7     -\n",
       "8     -\n",
       "9     -\n",
       "10    -\n",
       "11    -\n",
       "12    -\n",
       "13    -\n",
       "14    -\n",
       "15    -\n",
       "16    -\n",
       "17    -\n",
       "18    -\n",
       "19    -\n",
       "20    -\n",
       "21    -\n",
       "22    -\n",
       "23    -\n",
       "24    -\n",
       "25    +\n",
       "26    +\n",
       "27    +\n",
       "28    +\n",
       "29    +\n",
       "     ..\n",
       "70    +\n",
       "71    +\n",
       "72    +\n",
       "73    -\n",
       "74    -\n",
       "75    -\n",
       "76    +\n",
       "77    +\n",
       "78    -\n",
       "79    +\n",
       "80    -\n",
       "81    +\n",
       "82    +\n",
       "83    -\n",
       "84    +\n",
       "85    +\n",
       "86    +\n",
       "87    +\n",
       "88    +\n",
       "89    +\n",
       "90    +\n",
       "91    +\n",
       "92    +\n",
       "93    +\n",
       "94    +\n",
       "95    +\n",
       "96    +\n",
       "97    +\n",
       "98    +\n",
       "99    +\n",
       "Length: 100, dtype: object"
      ]
     },
     "execution_count": 237,
     "metadata": {},
     "output_type": "execute_result"
    }
   ],
   "source": [
    "c[c==0]='-'\n",
    "c[c==1]='+'\n",
    "c"
   ]
  },
  {
   "cell_type": "code",
   "execution_count": 238,
   "metadata": {},
   "outputs": [],
   "source": [
    "prediction = pd.DataFrame(c, columns=['predictions']).to_csv('prediction.csv')"
   ]
  },
  {
   "cell_type": "code",
   "execution_count": null,
   "metadata": {},
   "outputs": [],
   "source": []
  }
 ],
 "metadata": {
  "kernelspec": {
   "display_name": "Python 3",
   "language": "python",
   "name": "python3"
  },
  "language_info": {
   "codemirror_mode": {
    "name": "ipython",
    "version": 3
   },
   "file_extension": ".py",
   "mimetype": "text/x-python",
   "name": "python",
   "nbconvert_exporter": "python",
   "pygments_lexer": "ipython3",
   "version": "3.7.3"
  }
 },
 "nbformat": 4,
 "nbformat_minor": 2
}
